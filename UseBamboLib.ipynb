{
 "nbformat": 4,
 "nbformat_minor": 2,
 "metadata": {
  "language_info": {
   "name": "python",
   "codemirror_mode": {
    "name": "ipython",
    "version": 3
   }
  },
  "orig_nbformat": 2,
  "file_extension": ".py",
  "mimetype": "text/x-python",
  "name": "python",
  "npconvert_exporter": "python",
  "pygments_lexer": "ipython3",
  "version": 3
 },
 "cells": [
  {
   "cell_type": "markdown",
   "metadata": {},
   "source": [
    "Demo of bamboolib.  It provides a GUI for pandas and allows the user to generate code while exploring a dataframe"
   ]
  },
  {
   "cell_type": "code",
   "execution_count": null,
   "metadata": {},
   "outputs": [],
   "source": [
    "#if not installed despite requirements.txt then uncomment and install\n",
    "#after installing bamboolib, refresh the browser page so that the javascript is loaded.\n",
    "#!pip install pandas\n",
    "#!pip install bamboolib\n",
    "import pandas as pd\n",
    "import bamboolib as bam"
   ]
  },
  {
   "cell_type": "code",
   "execution_count": null,
   "metadata": {},
   "outputs": [],
   "source": [
    "#This should show at least some sample plot to indicate bamboolib is working\n",
    "bam.test_setup()\n",
    "bam.enable()\n"
   ]
  },
  {
   "cell_type": "code",
   "execution_count": null,
   "metadata": {},
   "outputs": [],
   "source": [
    "df = pd.read_csv(\"data/college_data_dictionary.csv\")\n",
    "#because of bam.enable(), df alone will invoke bamboolib, otherwise use bam.show(df)\n",
    "df\n",
    "#if no UI comes up then something is wrong.  Perhaps create an issue in the repo\n"
   ]
  },
  {
   "cell_type": "code",
   "execution_count": null,
   "metadata": {},
   "outputs": [],
   "source": [
    "#here is example lines of code that were generated from the UI\n",
    "df = df.loc[~(df['column_name'].str.contains('e', case=False, regex=False, na=False))]\n",
    "import plotly.express as px\n",
    "px.histogram(df)"
   ]
  },
  {
   "cell_type": "code",
   "execution_count": null,
   "metadata": {},
   "outputs": [],
   "source": []
  }
 ]
}